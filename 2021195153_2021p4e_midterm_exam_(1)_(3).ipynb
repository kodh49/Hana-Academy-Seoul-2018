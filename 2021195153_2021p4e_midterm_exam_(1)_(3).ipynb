{
  "nbformat": 4,
  "nbformat_minor": 0,
  "metadata": {
    "colab": {
      "name": "2021195153_2021p4e_midterm_exam (1) (3).ipynb",
      "provenance": [],
      "collapsed_sections": [],
      "include_colab_link": true
    },
    "kernelspec": {
      "name": "python3",
      "display_name": "Python 3"
    },
    "language_info": {
      "name": "python"
    }
  },
  "cells": [
    {
      "cell_type": "markdown",
      "metadata": {
        "id": "view-in-github",
        "colab_type": "text"
      },
      "source": [
        "<a href=\"https://colab.research.google.com/github/kodh49/Hana-Academy-Seoul-2018/blob/master/2021195153_2021p4e_midterm_exam_(1)_(3).ipynb\" target=\"_parent\"><img src=\"https://colab.research.google.com/assets/colab-badge.svg\" alt=\"Open In Colab\"/></a>"
      ]
    },
    {
      "cell_type": "markdown",
      "metadata": {
        "id": "kGCLvegu5nBJ"
      },
      "source": [
        "1.1 Write a program in the following cell that reads http://www.py4e.com/code3/mbox.txt and save it in your Google Colab as 'mailbox.your student ID' (e.g., mailbox.2017000102)"
      ]
    },
    {
      "cell_type": "code",
      "metadata": {
        "id": "tY48bRcm3m8K",
        "colab": {
          "base_uri": "https://localhost:8080/"
        },
        "outputId": "1a27b74c-f4dc-47fd-d080-0adb90058fc1"
      },
      "source": [
        "import requests as req\n",
        "url_short=\"https://www.py4e.com/code3/mbox.txt\"\n",
        "r=req.get(url_short,allow_redirects=True)\n",
        "open('mailbox.2021195153','wb').write(r.content)"
      ],
      "execution_count": 52,
      "outputs": [
        {
          "output_type": "execute_result",
          "data": {
            "text/plain": [
              "6687002"
            ]
          },
          "metadata": {
            "tags": []
          },
          "execution_count": 52
        }
      ]
    },
    {
      "cell_type": "markdown",
      "metadata": {
        "id": "JFCTVuW-6CAA"
      },
      "source": [
        "1.2. Write a program in the following cell that prompts for a file name, and then reads through the file and looks for lines of the form:\n",
        "</br></br>\n",
        "X-DSPAM-Confidence: 0.8475\n",
        "</br></br> from the file you made in 1.1 and save it as 'parsed.your student ID' (e.g., mailbox.2017000102)\n",
        "\n"
      ]
    },
    {
      "cell_type": "code",
      "metadata": {
        "id": "fpEENDUd6rBe",
        "colab": {
          "base_uri": "https://localhost:8080/"
        },
        "outputId": "ad26e484-0a1a-4b3e-aea6-37d552ce2d72"
      },
      "source": [
        "name = input('please enter a file name:')\n",
        "fname=open('mailbox.2021195153', 'r')\n",
        "fout=open(name,'w')\n",
        "for line in fname:\n",
        "  if line.startswith('X-DSPAM-Confidence'):\n",
        "    fout.write(line)\n",
        "fname.close() # These lines are for memory-safety\n",
        "fout.close() # These lines are for memory-safety"
      ],
      "execution_count": 53,
      "outputs": [
        {
          "output_type": "stream",
          "text": [
            "please enter a file name:parsed.2021195153\n"
          ],
          "name": "stdout"
        }
      ]
    },
    {
      "cell_type": "markdown",
      "metadata": {
        "id": "htfWhzec6r2D"
      },
      "source": [
        "1.3. Write a program in the following cell that generates a program, named \"spam_result_manager.py\", that reads the file you amde in 1.2 and compute the average spam confidence\n",
        "\n",
        "When you encounter a line that starts with “X-DSPAM-Confidence:”\n",
        "pull apart the line to extract the floating-point number on the line.\n",
        "Count these lines and then compute the total of the spam confidence values from these lines. When you reach the end of the file, print out\n",
        "the average spam confidence.</br>\n",
        "\n",
        "Average spam confidence of your file parsed.txt: 0.894128046745</br>\n",
        "</br>"
      ]
    },
    {
      "cell_type": "code",
      "metadata": {
        "id": "gcySM5Xu7n_T",
        "colab": {
          "base_uri": "https://localhost:8080/"
        },
        "outputId": "486a2edc-679c-440a-d13b-626d11122c94"
      },
      "source": [
        "#spam_result_manager.py\n",
        "num=0.0\n",
        "count=0\n",
        "\n",
        "newfile = open(name, 'r') # Since the file is closed above, need to open it again. But this time, with 'read only'\n",
        "data = newfile.readlines() # .readlines() method returns a list consists of each line of the file that is string-parsed\n",
        "for line in data:\n",
        "    count+=1\n",
        "    num+=float(line[-6:])\n",
        "    # print(\"count:\"+str(count)+\" | num:\"+str(num)) Just a simple print to check if the code works properly\n",
        "\n",
        "print('average:', '%.12f' % (num/count))"
      ],
      "execution_count": 69,
      "outputs": [
        {
          "output_type": "stream",
          "text": [
            "average: 0.894128046745\n"
          ],
          "name": "stdout"
        }
      ]
    },
    {
      "cell_type": "code",
      "metadata": {
        "id": "TQdATHdE9fGp"
      },
      "source": [
        "#run your spam_result_manager.py\n",
        "!python spam_result_manager.py"
      ],
      "execution_count": null,
      "outputs": []
    },
    {
      "cell_type": "markdown",
      "metadata": {
        "id": "-raXn7jY8qv1"
      },
      "source": [
        "1.4. Write a program in the following cell that generates a program, named \"spam_max_manager.py\", that reads the file you amde in 1.2 and compute the max spam confidence.\n",
        "\n",
        "When you encounter a line that starts with “X-DSPAM-Confidence:”\n",
        "pull apart the line to extract the floating-point number on the line.\n",
        "Count these lines and then compute the maximum of the spam confidence values from these lines. When you reach the end of the file, print out\n",
        "the average spam confidence.</br>\n",
        "\n",
        "Average spam confidence of your file parsed.txt: 0.894128046745</br>\n",
        "</br>"
      ]
    },
    {
      "cell_type": "code",
      "metadata": {
        "id": "zdU2mjs982TZ",
        "colab": {
          "base_uri": "https://localhost:8080/"
        },
        "outputId": "8a1a6b7a-55e8-4e63-e349-d4b6afea020f"
      },
      "source": [
        "#spam_max_manager\n",
        "num=0.0\n",
        "count=0\n",
        "\n",
        "newfile = open(name, 'r') # Since the file is closed above, need to open it again. But this time, with 'read only'\n",
        "data = newfile.readlines() # .readlines() method returns a list consists of each line of the file that is string-parsed\n",
        "for line in data:\n",
        "    count+=1\n",
        "    num+=float(line[-6:])\n",
        "    # print(\"count:\"+str(count)+\" | num:\"+str(num)) Just a simple print to check if the code works properly\n",
        "\n",
        "print('max:', '%.12f' % (num/count))"
      ],
      "execution_count": 70,
      "outputs": [
        {
          "output_type": "stream",
          "text": [
            "max: 0.894128046745\n"
          ],
          "name": "stdout"
        }
      ]
    },
    {
      "cell_type": "code",
      "metadata": {
        "id": "BXxsi439961N"
      },
      "source": [
        "#run your spam_max_manager.py\n",
        "!python spam_max_manager.py"
      ],
      "execution_count": null,
      "outputs": []
    },
    {
      "cell_type": "markdown",
      "metadata": {
        "id": "SeqzS-OV82jG"
      },
      "source": [
        "1.5. Write a program in the following cell that generates a program, named \"spam_min_manager.py\", that reads the file you amde in 1.2 and compute the min spam confidence.\n",
        "\n",
        "When you encounter a line that starts with “X-DSPAM-Confidence:”\n",
        "pull apart the line to extract the floating-point number on the line.\n",
        "Count these lines and then compute the minimum of the spam confidence values from these lines. When you reach the end of the file, print out\n",
        "the average spam confidence.</br>\n",
        "\n",
        "\n",
        "Average spam confidence of your file parsed.txt: 0.894128046745</br>\n",
        "</br>"
      ]
    },
    {
      "cell_type": "code",
      "metadata": {
        "id": "GrAECmmF83Y4",
        "colab": {
          "base_uri": "https://localhost:8080/"
        },
        "outputId": "98fb3b79-c75e-496c-b5df-1940764f4e22"
      },
      "source": [
        "#spam_min_manager\n",
        "num=0.0\n",
        "count=0\n",
        "\n",
        "newfile = open(name, 'r') # Since the file is closed above, need to open it again. But this time, with 'read only'\n",
        "data = newfile.readlines() # .readlines() method returns a list consists of each line of the file that is string-parsed\n",
        "for line in data:\n",
        "    count+=1\n",
        "    num+=float(line[-6:])\n",
        "    # print(\"count:\"+str(count)+\" | num:\"+str(num)) Just a simple print to check if the code works properly\n",
        "\n",
        "print('min:', '%.12f' % (num/count))"
      ],
      "execution_count": 71,
      "outputs": [
        {
          "output_type": "stream",
          "text": [
            "min: 0.894128046745\n"
          ],
          "name": "stdout"
        }
      ]
    },
    {
      "cell_type": "code",
      "metadata": {
        "id": "2Bf9DfWJQxxS"
      },
      "source": [
        "#run your spam_min_manager.py\n",
        "!python spam_min_manager.py"
      ],
      "execution_count": null,
      "outputs": []
    },
    {
      "cell_type": "markdown",
      "metadata": {
        "id": "txLGDyo-AGBh"
      },
      "source": [
        "You can train a machine learning model to generate spam confidence value for a given email. Then, you can make a spam analyzer using Python! At the end of this course, you will make a web-based data analyzer tool!! "
      ]
    }
  ]
}